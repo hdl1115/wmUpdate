{
 "cells": [
  {
   "cell_type": "code",
   "execution_count": null,
   "id": "fbaac493",
   "metadata": {},
   "outputs": [],
   "source": [
    "import numpy as np\n",
    "import matplotlib.pyplot as plt\n",
    "from matplotlib.pyplot import text\n",
    "import seaborn as sns\n",
    "import pandas as pd\n",
    "from scipy import stats\n",
    "import spynal\n",
    "from spynal.matIO import loadmat\n",
    "from spynal.spikes import times_to_bool, rate\n",
    "from spynal.spectra import remove_evoked, spectrogram, pool_freq_bands, one_over_f_norm, plot_spectrogram\n",
    "from os import listdir\n",
    "\n",
    "'''\n",
    "remove neurons which display temporal trends\n",
    "'''\n",
    "\n",
    "def remove_temporal_trends(spikeTimes):\n",
    "    trial_num = spikeTimes.shape[0]\n",
    "    unit_num = spikeTimes.shape[1]\n",
    "    bin_size = 20\n",
    "    step = 1\n",
    "    total_bins = int((trial_num - bin_size) / step + 1)\n",
    "    tps = 6.5\n",
    "    stationary_check = np.ones(unit_num, dtype=bool)\n",
    "    for i in range(unit_num):\n",
    "        spkTimes_unit = spikeTimes[:,i] # (trial_num, )\n",
    "        compute_rate = np.vectorize(lambda x:np.size(x)/tps)\n",
    "        spk_rate_unit = compute_rate(spkTimes_unit)\n",
    "        var_unit = np.var(spk_rate_unit)\n",
    "        all_var_bin = []\n",
    "        for j in range(0, total_bins, step):\n",
    "            var_bin = np.var(spk_rate_unit[j:j+bin_size])\n",
    "            all_var_bin.append(var_bin)\n",
    "        print(all_var_bin)\n",
    "        print(var_unit)\n",
    "        if np.mean(all_var_bin) < var_unit/2:\n",
    "            stationary_check[i] = 0\n",
    "\n",
    "    return stationary_check\n",
    "\n",
    "dir_path = '/Users/huidili/Documents/miller_lab/wmUpdate/mat/'\n",
    "for session_file in listdir(dir_path):\n",
    "    trialInfo, spikeTimes, unitInfo = loadmat(dir_path + session_file,\n",
    "                                              variables=['trialInfo', 'spikeTimes', 'unitInfo'],\n",
    "                                              typemap={'trialInfo': 'DataFrame'}, verbose=True)\n",
    "    session_name = trialInfo['session'][0]\n",
    "    np.savez(f'/Users/huidili/Documents/miller_lab/wmUpdate/unit_stationary/{session_name}_stationary.npz', stationary=remove_temporal_trends(spikeTimes))\n",
    "\n",
    "\n"
   ]
  }
 ],
 "metadata": {
  "kernelspec": {
   "display_name": "Python 3 (ipykernel)",
   "language": "python",
   "name": "python3"
  },
  "language_info": {
   "codemirror_mode": {
    "name": "ipython",
    "version": 3
   },
   "file_extension": ".py",
   "mimetype": "text/x-python",
   "name": "python",
   "nbconvert_exporter": "python",
   "pygments_lexer": "ipython3",
   "version": "3.9.12"
  }
 },
 "nbformat": 4,
 "nbformat_minor": 5
}
