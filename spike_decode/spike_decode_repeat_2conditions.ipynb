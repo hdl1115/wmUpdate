{
 "cells": [
  {
   "cell_type": "code",
   "execution_count": 1,
   "id": "b8ede132",
   "metadata": {},
   "outputs": [],
   "source": [
    "import numpy as np\n",
    "import matplotlib.pyplot as plt\n",
    "from matplotlib.pyplot import text\n",
    "import seaborn as sns\n",
    "import pandas as pd\n",
    "import spynal\n",
    "from spynal.matIO import loadmat\n",
    "from spynal import info, utils\n",
    "from sklearn.model_selection import StratifiedKFold\n",
    "from sklearn.discriminant_analysis import LinearDiscriminantAnalysis\n",
    "\n",
    "'''\n",
    "decode for retain and update conditions\n",
    "'''\n",
    "\n",
    "information = ['s1', 's2']\n",
    "areas = ['PFC', 'LIP', 'OFC']\n",
    "conditions = ['update']\n",
    "classifier = 'LDA'\n",
    "cv_repeat_num = 50\n",
    "n_classes = 4\n",
    "n_splits = 5\n",
    "\n",
    "for condition in conditions:\n",
    "    for area in areas:\n",
    "        for type in information:\n",
    "            data = np.load(f'/om/user/huidili/wmUpdate/150b50s_decode/spk_dec_condition_data/ISA/ISA_{type}_{area}_{condition}_feature_label.npz')\n",
    "            feature = data['feature']\n",
    "            label = data['label']\n",
    "            tps = feature.shape[2]\n",
    "            acc_all_cv = np.empty((tps, cv_repeat_num, n_splits))\n",
    "            kf = StratifiedKFold(n_splits=n_splits, shuffle=True)\n",
    "            decoder = LinearDiscriminantAnalysis(priors=(1/n_classes)*np.ones((n_classes,)))\n",
    "            for i in range(cv_repeat_num):\n",
    "                for i_fold, (train_idx, test_idx) in enumerate(kf.split(feature, label)):\n",
    "                    for t in range(feature.shape[2]):\n",
    "                        X_train, X_test = feature[train_idx,:,t], feature[test_idx,:,t]\n",
    "                        y_train, y_test = label[train_idx], label[test_idx]\n",
    "                        # compute z-score\n",
    "                        train_mean = np.mean(X_train)\n",
    "                        train_sd = np.std(X_train)\n",
    "                        X_train = (X_train - train_mean) / train_sd\n",
    "                        X_test = (X_test - train_mean) / train_sd\n",
    "                        decoder.fit(X_train, y_train)\n",
    "                        acc_all_cv[t, i, i_fold] = decoder.score(X_test, y_test)\n",
    "            np.savez(f'/om/user/huidili/wmUpdate/150b50s_decode/spk_dec_result/ISA/conditions/50cv/ISA_{type}_{area}_{condition}_{classifier}_accuracy.npz', accuracy=acc_all_cv)\n",
    "\n",
    "\n",
    "\n",
    "\n",
    "\n"
   ]
  },
  {
   "cell_type": "code",
   "execution_count": null,
   "id": "e4e0fb97",
   "metadata": {},
   "outputs": [],
   "source": []
  }
 ],
 "metadata": {
  "kernelspec": {
   "display_name": "Python 3 (ipykernel)",
   "language": "python",
   "name": "python3"
  },
  "language_info": {
   "codemirror_mode": {
    "name": "ipython",
    "version": 3
   },
   "file_extension": ".py",
   "mimetype": "text/x-python",
   "name": "python",
   "nbconvert_exporter": "python",
   "pygments_lexer": "ipython3",
   "version": "3.9.12"
  }
 },
 "nbformat": 4,
 "nbformat_minor": 5
}
