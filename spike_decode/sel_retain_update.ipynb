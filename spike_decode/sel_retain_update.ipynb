{
 "cells": [
  {
   "cell_type": "code",
   "execution_count": null,
   "id": "54c7a753",
   "metadata": {},
   "outputs": [],
   "source": [
    "import numpy as np\n",
    "import matplotlib.pyplot as plt\n",
    "from matplotlib.pyplot import text\n",
    "import seaborn as sns\n",
    "import pandas as pd\n",
    "import spynal\n",
    "from spynal.matIO import loadmat\n",
    "from spynal.spectra import remove_evoked, spectrogram, pool_freq_bands, one_over_f_norm, plot_spectrogram\n",
    "from os import listdir\n",
    "\n",
    "'''\n",
    "select retain and update trials\n",
    "'''\n",
    "\n",
    "def select_trials(trialInfo):\n",
    "  trial_sel = (trialInfo['correct']) & (~ trialInfo['badTrials']) & (trialInfo['task'] == 'wmUpdate')\n",
    "  return trial_sel\n",
    "\n",
    "def select_retain_update(trialInfo):\n",
    "    trial_idx = select_trials(trialInfo)\n",
    "    # store conditions (retain & update) index in a dict\n",
    "    cdict = {}\n",
    "    retain_idx = (~ (trialInfo['offer1'] == 1)) & (~ (trialInfo['offer1'] == 10)) & (~ (trialInfo['offer1'] == 13)) & (\n",
    "                trialInfo['largerOrdinal'] == 1)\n",
    "    cdict['retain'] = retain_idx[trial_idx]\n",
    "    update_idx = (~ (trialInfo['offer1'] == 1)) & (~ (trialInfo['offer1'] == 10)) & (~ (trialInfo['offer1'] == 13)) & (\n",
    "                trialInfo['largerOrdinal'] == 2)\n",
    "    cdict['update'] = update_idx[trial_idx]\n",
    "\n",
    "    df = pd.DataFrame(cdict)\n",
    "\n",
    "    return df\n",
    "\n",
    "\n",
    "\n",
    "\n",
    "dir_path = '/Users/huidili/Documents/miller_lab/wmUpdate/mat/'\n",
    "for session_file in listdir(dir_path):\n",
    "    trialInfo = loadmat(dir_path+session_file, variables=['trialInfo'], typemap={'trialInfo': 'DataFrame'}, verbose=True)\n",
    "    session_name = trialInfo['session'][0]\n",
    "    condition_df = select_retain_update(trialInfo)\n",
    "    condition_df.to_pickle(f'/Users/huidili/Documents/miller_lab/wmUpdate/trial_condition/{session_name}_condition_df.pkl')\n"
   ]
  }
 ],
 "metadata": {
  "kernelspec": {
   "display_name": "Python 3 (ipykernel)",
   "language": "python",
   "name": "python3"
  },
  "language_info": {
   "codemirror_mode": {
    "name": "ipython",
    "version": 3
   },
   "file_extension": ".py",
   "mimetype": "text/x-python",
   "name": "python",
   "nbconvert_exporter": "python",
   "pygments_lexer": "ipython3",
   "version": "3.9.12"
  }
 },
 "nbformat": 4,
 "nbformat_minor": 5
}
