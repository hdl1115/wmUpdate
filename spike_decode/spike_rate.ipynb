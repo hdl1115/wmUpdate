{
 "cells": [
  {
   "cell_type": "code",
   "execution_count": null,
   "id": "7c4be79c",
   "metadata": {},
   "outputs": [],
   "source": [
    "import numpy as np\n",
    "import matplotlib.pyplot as plt\n",
    "from matplotlib.pyplot import text\n",
    "import seaborn as sns\n",
    "import pandas as pd\n",
    "from scipy import stats\n",
    "import spynal\n",
    "from spynal.matIO import loadmat\n",
    "from spynal.spikes import times_to_bool, rate\n",
    "from spynal.spectra import remove_evoked, spectrogram, pool_freq_bands, one_over_f_norm, plot_spectrogram\n",
    "from os import listdir\n",
    "\n",
    "'''\n",
    "compute spike rate & select neurons by areas\n",
    "'''\n",
    "def select_trials(trialInfo):\n",
    "  trial_sel = (trialInfo['correct']) & (~ trialInfo['badTrials']) & (trialInfo['task'] == 'wmUpdate')\n",
    "  return trial_sel\n",
    "\n",
    "def select_area(unitInfo):\n",
    "  area_sel = unitInfo['area']\n",
    "  adict = {}\n",
    "  adict['LIP'] = area_sel=='LIP'\n",
    "  adict['PFC'] = area_sel=='PFC'\n",
    "  adict['OFC'] = area_sel=='OFC'\n",
    "\n",
    "  df = pd.DataFrame(adict)\n",
    "\n",
    "  return df\n",
    "\n",
    "dir_path = '/Users/huidili/Documents/miller_lab/wmUpdate/mat/'\n",
    "for session_file in listdir(dir_path):\n",
    "\n",
    "    trialInfo, spikeTimes, unitInfo = loadmat(dir_path+session_file, variables=['trialInfo', 'spikeTimes', 'unitInfo'], typemap={'trialInfo': 'DataFrame'}, verbose=True)\n",
    "    session_name = trialInfo['session'][0]\n",
    "\n",
    "    # group units by area\n",
    "    area_df = select_area(unitInfo)\n",
    "    area_df.to_pickle(f'/Users/huidili/Documents/miller_lab/wmUpdate/150b50s_decode/spk_area/{session_name}_spk_area_df.pkl')\n",
    "\n",
    "    # select trials and compute spiking rate\n",
    "    trial_idx = select_trials(trialInfo)\n",
    "    spikeTimes = spikeTimes[trial_idx]\n",
    "    spike_rate, rate_bins = rate(spikeTimes, method='bin', lims=[-2, 4.5], width=150e-3, step=50e-3)\n",
    "    np.savez(f'/Users/huidili/Documents/miller_lab/wmUpdate/150b50s_decode/spk_rate/{session_name}_spk_rate.npz', spike_rate=spike_rate, rate_bins=rate_bins)\n",
    "\n"
   ]
  }
 ],
 "metadata": {
  "kernelspec": {
   "display_name": "Python 3 (ipykernel)",
   "language": "python",
   "name": "python3"
  },
  "language_info": {
   "codemirror_mode": {
    "name": "ipython",
    "version": 3
   },
   "file_extension": ".py",
   "mimetype": "text/x-python",
   "name": "python",
   "nbconvert_exporter": "python",
   "pygments_lexer": "ipython3",
   "version": "3.9.12"
  }
 },
 "nbformat": 4,
 "nbformat_minor": 5
}
