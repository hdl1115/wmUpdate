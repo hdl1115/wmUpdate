{
 "cells": [
  {
   "cell_type": "code",
   "execution_count": 2,
   "id": "eccb5390",
   "metadata": {},
   "outputs": [],
   "source": [
    "import numpy as np\n",
    "import matplotlib.pyplot as plt\n",
    "from matplotlib.pyplot import text\n",
    "import seaborn as sns\n",
    "import pandas as pd\n",
    "import spynal\n",
    "from spynal.matIO import loadmat\n",
    "from spynal import info, utils\n",
    "from sklearn.model_selection import StratifiedKFold\n",
    "from sklearn.discriminant_analysis import LinearDiscriminantAnalysis\n",
    "\n",
    "# decoding of all trials\n",
    "information = ['s1', 's2', 'r1', 'r2']\n",
    "areas = ['PFC']\n",
    "classifier = 'LDA'\n",
    "n_classes = 4\n",
    "\n",
    "for area in areas:\n",
    "    for type in information:\n",
    "        data = np.load(f'/om/user/huidili/wmUpdate/150b50s_decode/spk_dec_data/ISA/ISA_{type}_{area}_feature_label.npz')\n",
    "        feature = data['feature']\n",
    "        label = data['label']\n",
    "        tps = feature.shape[2]\n",
    "        kf = StratifiedKFold(n_splits=5, shuffle=True)\n",
    "        decoder = LinearDiscriminantAnalysis(priors=(1/n_classes)*np.ones((n_classes,)))\n",
    "        accs = np.empty((tps, tps, kf.n_splits))\n",
    "        for i_fold, (train_idx, test_idx) in enumerate(kf.split(feature, label)):\n",
    "            for m in range(feature.shape[2]):\n",
    "                X_train = feature[train_idx,:,m]\n",
    "                y_train = label[train_idx]\n",
    "                # compute z-score\n",
    "                train_mean = np.mean(X_train)\n",
    "                train_sd = np.std(X_train)\n",
    "                X_train_z = (X_train - train_mean) / train_sd\n",
    "                decoder.fit(X_train_z, y_train)\n",
    "                for n in range(feature.shape[2]):\n",
    "                    X_test = feature[test_idx,:,n]\n",
    "                    y_test = label[test_idx]\n",
    "                    X_test_z = (X_test - train_mean) / train_sd\n",
    "                    accs[m, n, i_fold] = decoder.score(X_test_z, y_test)\n",
    "        np.savez(f'/om/user/huidili/wmUpdate/150b50s_decode/spk_dydec_result/ISA/ISA_{type}_{area}_{classifier}_accuracy.npz', accuracy=accs)\n",
    "\n"
   ]
  },
  {
   "cell_type": "code",
   "execution_count": null,
   "id": "7c2bba73",
   "metadata": {},
   "outputs": [],
   "source": []
  }
 ],
 "metadata": {
  "kernelspec": {
   "display_name": "Python 3 (ipykernel)",
   "language": "python",
   "name": "python3"
  },
  "language_info": {
   "codemirror_mode": {
    "name": "ipython",
    "version": 3
   },
   "file_extension": ".py",
   "mimetype": "text/x-python",
   "name": "python",
   "nbconvert_exporter": "python",
   "pygments_lexer": "ipython3",
   "version": "3.9.12"
  }
 },
 "nbformat": 4,
 "nbformat_minor": 5
}
